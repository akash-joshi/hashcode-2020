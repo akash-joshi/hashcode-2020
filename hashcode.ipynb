{
  "nbformat": 4,
  "nbformat_minor": 0,
  "metadata": {
    "colab": {
      "name": "hashcode.ipynb",
      "provenance": [],
      "collapsed_sections": [],
      "toc_visible": true,
      "include_colab_link": true
    },
    "kernelspec": {
      "name": "python3",
      "display_name": "Python 3"
    }
  },
  "cells": [
    {
      "cell_type": "markdown",
      "metadata": {
        "id": "view-in-github",
        "colab_type": "text"
      },
      "source": [
        "<a href=\"https://colab.research.google.com/github/akash-joshi/hashcode-2020/blob/master/hashcode.ipynb\" target=\"_parent\"><img src=\"https://colab.research.google.com/assets/colab-badge.svg\" alt=\"Open In Colab\"/></a>"
      ]
    },
    {
      "cell_type": "code",
      "metadata": {
        "id": "zK5sHB2qxvA-",
        "colab_type": "code",
        "outputId": "5a29945b-1631-4130-e947-7ff035052a1b",
        "colab": {
          "base_uri": "https://localhost:8080/",
          "height": 34
        }
      },
      "source": [
        "file=open('a_example.txt', 'r')\n",
        "file"
      ],
      "execution_count": 0,
      "outputs": [
        {
          "output_type": "execute_result",
          "data": {
            "text/plain": [
              "<_io.TextIOWrapper name='a_example.txt' mode='r' encoding='UTF-8'>"
            ]
          },
          "metadata": {
            "tags": []
          },
          "execution_count": 1
        }
      ]
    },
    {
      "cell_type": "code",
      "metadata": {
        "id": "uYYfl4bkyTeR",
        "colab_type": "code",
        "outputId": "7cbb4b34-aef5-4108-e76d-2a652656d369",
        "colab": {
          "base_uri": "https://localhost:8080/",
          "height": 34
        }
      },
      "source": [
        "a=file.read()\n",
        "lines=a.split(\"\\n\")\n",
        "lines"
      ],
      "execution_count": 0,
      "outputs": [
        {
          "output_type": "execute_result",
          "data": {
            "text/plain": [
              "['6 2 7', '1 2 3 6 5 4', '5 2 2', '0 1 2 3 4', '4 3 1', '0 2 3 5', '']"
            ]
          },
          "metadata": {
            "tags": []
          },
          "execution_count": 2
        }
      ]
    },
    {
      "cell_type": "code",
      "metadata": {
        "id": "Tk56NFaX1yma",
        "colab_type": "code",
        "colab": {}
      },
      "source": [
        "first_line = lines[0].split(' ')\n",
        "\n",
        "total_books = first_line[0]\n",
        "total_libs = first_line[1]\n",
        "total_days = int(first_line[2])\n",
        "\n",
        "book_scores = lines[1].split(' ')"
      ],
      "execution_count": 0,
      "outputs": []
    },
    {
      "cell_type": "code",
      "metadata": {
        "id": "HhYjyQan1d6h",
        "colab_type": "code",
        "outputId": "69d0859f-c95e-41b9-a1d4-0e4f405624ed",
        "colab": {
          "base_uri": "https://localhost:8080/",
          "height": 51
        }
      },
      "source": [
        "i = 2\n",
        "\n",
        "libs = []\n",
        "lib_id = 0\n",
        "\n",
        "while i < (int(total_libs) * 2) + 2:\n",
        "  lib_data = {}\n",
        "  lib_data['id'] = lib_id\n",
        "  lib_id = lib_id + 1\n",
        "  lib_data['data'] = lines[i].split(' ')\n",
        "  i = i + 1\n",
        "  lib_data['books'] = lines[i].split(' ')\n",
        "  i = i + 1\n",
        "  libs.append(lib_data)\n",
        "\n",
        "libs"
      ],
      "execution_count": 0,
      "outputs": [
        {
          "output_type": "execute_result",
          "data": {
            "text/plain": [
              "[{'books': ['0', '1', '2', '3', '4'], 'data': ['5', '2', '2'], 'id': 0},\n",
              " {'books': ['0', '2', '3', '5'], 'data': ['4', '3', '1'], 'id': 1}]"
            ]
          },
          "metadata": {
            "tags": []
          },
          "execution_count": 4
        }
      ]
    },
    {
      "cell_type": "code",
      "metadata": {
        "id": "D9pdD5m86BQM",
        "colab_type": "code",
        "outputId": "513f0bbc-1bb9-4c5e-bceb-b2a8db8c0cef",
        "colab": {
          "base_uri": "https://localhost:8080/",
          "height": 51
        }
      },
      "source": [
        "sorted_libs = sorted(libs, key=lambda a: int(a['data'][2]) / int(a['data'][0]))\n",
        "sorted_libs"
      ],
      "execution_count": 0,
      "outputs": [
        {
          "output_type": "execute_result",
          "data": {
            "text/plain": [
              "[{'books': ['0', '2', '3', '5'], 'data': ['4', '3', '1'], 'id': 1},\n",
              " {'books': ['0', '1', '2', '3', '4'], 'data': ['5', '2', '2'], 'id': 0}]"
            ]
          },
          "metadata": {
            "tags": []
          },
          "execution_count": 5
        }
      ]
    },
    {
      "cell_type": "code",
      "metadata": {
        "id": "23rdmGY1_ODq",
        "colab_type": "code",
        "outputId": "56eadcae-774e-4228-97a7-c9e39c2fa4c9",
        "colab": {
          "base_uri": "https://localhost:8080/",
          "height": 153
        }
      },
      "source": [
        "days_passed = 0\n",
        "\n",
        "def first_map(lib_dict):\n",
        "  # books_shippable_in_time_period  = absolute(((signup days + days passed) - total_days)) * books_available\n",
        "  books_shippable_in_time_period  = abs(((int(lib_dict['data'][1]) + days_passed) - total_days)) * int(lib_dict['data'][0])\n",
        "  \n",
        "  # number of books to process = max(books_shippable_in_time_period, books_available)\n",
        "  return min(books_shippable_in_time_period, int(lib_dict['data'][0]))\n",
        "\n",
        "first_map_result = list(map(first_map, sorted_libs))\n",
        "\n",
        "i = 0\n",
        "while i < len(sorted_libs):\n",
        "  sorted_libs[i]['book_limit'] = first_map_result[i]\n",
        "  i = i+1\n",
        "\n",
        "sorted_libs"
      ],
      "execution_count": 0,
      "outputs": [
        {
          "output_type": "execute_result",
          "data": {
            "text/plain": [
              "[{'book_limit': 4,\n",
              "  'books': ['0', '2', '3', '5'],\n",
              "  'data': ['4', '3', '1'],\n",
              "  'id': 1},\n",
              " {'book_limit': 5,\n",
              "  'books': ['0', '1', '2', '3', '4'],\n",
              "  'data': ['5', '2', '2'],\n",
              "  'id': 0}]"
            ]
          },
          "metadata": {
            "tags": []
          },
          "execution_count": 6
        }
      ]
    },
    {
      "cell_type": "code",
      "metadata": {
        "id": "oPBuFT9DFmBd",
        "colab_type": "code",
        "colab": {}
      },
      "source": [
        "unique_books=[]\n",
        "def give_me_book(lib_dict):\n",
        "  # loop over dict ke books and yield each book upto first_map_result count\n",
        " # return_data = []\n",
        "  for x in range(0, lib_dict['book_limit']):\n",
        "    #return_data.append(lib_dict['books'][x])\n",
        "    el=lib_dict['books'][x]\n",
        "    if el not in unique_books:\n",
        "      unique_books.append(el)  \n",
        "      yield el\n",
        "    else:\n",
        "      yield  \n",
        "\n",
        "#list(map(give_me_book, sorted_libs))"
      ],
      "execution_count": 0,
      "outputs": []
    },
    {
      "cell_type": "code",
      "metadata": {
        "id": "C0_Jl4RsLtbB",
        "colab_type": "code",
        "colab": {}
      },
      "source": [
        "def give_me_lib_count():\n",
        "  return len(sorted_libs)"
      ],
      "execution_count": 0,
      "outputs": []
    },
    {
      "cell_type": "code",
      "metadata": {
        "id": "cKNulGrLL0n4",
        "colab_type": "code",
        "outputId": "4dcf5fff-1909-484e-9c7b-d91e90dcabf8",
        "colab": {
          "base_uri": "https://localhost:8080/",
          "height": 102
        }
      },
      "source": [
        "def holy_grail():\n",
        "  out=\"\"\n",
        "  print(\"{}\".format(give_me_lib_count()))\n",
        "  for abc in range(len(sorted_libs)):\n",
        "    ele=sorted_libs[abc]\n",
        "    plz_book=give_me_book(ele)\n",
        "    send_book=[]\n",
        "    for _ in range(ele['book_limit']):\n",
        "      print_element=next(plz_book)\n",
        "      if print_element is not None:\n",
        "         send_book.append(print_element)\n",
        " #     print(\"{}\".format(print_element),end=\" \") if print_element is not None else print_element\n",
        "    print(\"{} {}\".format(ele['id'],len(send_book)))\n",
        "    for a in send_book:\n",
        "      print(\"{}\".format(a),end=\" \")\n",
        "    print(\"\")  \n",
        "\n",
        "holy_grail()"
      ],
      "execution_count": 0,
      "outputs": [
        {
          "output_type": "stream",
          "text": [
            "2\n",
            "1 4\n",
            "0 2 3 5 \n",
            "0 2\n",
            "1 4 \n"
          ],
          "name": "stdout"
        }
      ]
    }
  ]
}